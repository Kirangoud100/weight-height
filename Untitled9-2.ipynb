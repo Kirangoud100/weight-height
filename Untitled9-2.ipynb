{
 "cells": [
  {
   "cell_type": "code",
   "execution_count": 1,
   "id": "41016268-7b75-4b30-8a30-484490f6cb16",
   "metadata": {},
   "outputs": [
    {
     "name": "stdout",
     "output_type": "stream",
     "text": [
      "  Gender     Height      Weight\n",
      "0   Male  73.847017  241.893563\n",
      "1   Male  68.781904  162.310473\n",
      "2   Male  74.110105  212.740856\n",
      "3   Male  71.730978  220.042470\n",
      "4   Male  69.881796  206.349801\n",
      "Mean Squared Error (MSE): 101.24427647013322\n"
     ]
    }
   ],
   "source": [
    "# Import necessary libraries\n",
    "import pandas as pd\n",
    "from sklearn.model_selection import train_test_split\n",
    "from sklearn.linear_model import LinearRegression\n",
    "from sklearn.metrics import mean_squared_error\n",
    "from sklearn.preprocessing import LabelEncoder\n",
    "\n",
    "# Step 1: Data Loading and Preprocessing\n",
    "file_path = '/Users/kiran/Library/Mobile Documents/com~apple~CloudDocs/weight-height.csv.xls'  # Update with your file path\n",
    "\n",
    "# Try loading it as a CSV file first\n",
    "try:\n",
    "    df = pd.read_csv(file_path)\n",
    "except:\n",
    "    # If it fails, load it as an Excel file\n",
    "    df = pd.read_excel(file_path)\n",
    "\n",
    "# Display the first few rows of the dataframe to inspect the structure\n",
    "print(df.head())\n",
    "\n",
    "# Convert 'Gender' to numerical values (0 for Male, 1 for Female)\n",
    "le = LabelEncoder()\n",
    "df['Gender'] = le.fit_transform(df['Gender'])\n",
    "\n",
    "# Split the data into features (X) and target (y)\n",
    "X = df[['Gender', 'Height']]\n",
    "y = df['Weight']\n",
    "\n",
    "# Split the dataset into training and test sets (80% train, 20% test)\n",
    "X_train, X_test, y_train, y_test = train_test_split(X, y, test_size=0.2, random_state=42)\n",
    "\n",
    "# Step 2: Model Training\n",
    "# Initialize and train a linear regression model\n",
    "model = LinearRegression()\n",
    "model.fit(X_train, y_train)\n",
    "\n",
    "# Step 3: Model Prediction and Evaluation using Mean Squared Error (MSE)\n",
    "y_pred = model.predict(X_test)\n",
    "mse = mean_squared_error(y_test, y_pred)\n",
    "print(f\"Mean Squared Error (MSE): {mse}\")\n",
    "\n",
    "\n"
   ]
  },
  {
   "cell_type": "code",
   "execution_count": null,
   "id": "7fe1deb7-0e48-490d-8efc-f001f30fbcb7",
   "metadata": {},
   "outputs": [],
   "source": []
  }
 ],
 "metadata": {
  "kernelspec": {
   "display_name": "Python 3 (ipykernel)",
   "language": "python",
   "name": "python3"
  },
  "language_info": {
   "codemirror_mode": {
    "name": "ipython",
    "version": 3
   },
   "file_extension": ".py",
   "mimetype": "text/x-python",
   "name": "python",
   "nbconvert_exporter": "python",
   "pygments_lexer": "ipython3",
   "version": "3.12.4"
  }
 },
 "nbformat": 4,
 "nbformat_minor": 5
}
